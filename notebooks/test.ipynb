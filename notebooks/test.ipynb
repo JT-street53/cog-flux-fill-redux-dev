{
 "cells": [
  {
   "cell_type": "code",
   "execution_count": null,
   "metadata": {},
   "outputs": [],
   "source": [
    "import init\n",
    "from cog.types import Path\n",
    "from predict import Predictor\n",
    "\n",
    "# Initialize predictor\n",
    "predictor = Predictor()\n",
    "predictor.setup()\n",
    "\n",
    "# Define paths for required images\n",
    "input_image = Path(\"images/cartoon-man-laughing.png\")\n",
    "mask_image = Path(\"images/mask.png\")  # You'll need to create a mask image\n",
    "reference_image = Path(\"images/cartoon-man-laughing.png\")  # Using same image as reference\n",
    "\n",
    "# Run prediction with default parameters\n",
    "results = predictor.predict(\n",
    "    image=input_image,\n",
    "    mask=mask_image,\n",
    "    reference_image=reference_image,\n",
    "    prompt=\"cartoon of a black woman laughing, digital art\",\n",
    "    num_outputs=1\n",
    ")\n",
    "\n",
    "display(results[0])"
   ]
  },
  {
   "cell_type": "code",
   "execution_count": null,
   "metadata": {},
   "outputs": [],
   "source": []
  }
 ],
 "metadata": {
  "kernelspec": {
   "display_name": "cog-flux-fill-redux-dev-xKz1zol3-py3.10",
   "language": "python",
   "name": "python3"
  },
  "language_info": {
   "codemirror_mode": {
    "name": "ipython",
    "version": 3
   },
   "file_extension": ".py",
   "mimetype": "text/x-python",
   "name": "python",
   "nbconvert_exporter": "python",
   "pygments_lexer": "ipython3",
   "version": "3.12.8"
  }
 },
 "nbformat": 4,
 "nbformat_minor": 2
}
